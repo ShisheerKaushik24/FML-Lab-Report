{
 "cells": [
  {
   "cell_type": "code",
   "execution_count": 2,
   "metadata": {},
   "outputs": [
    {
     "name": "stdout",
     "output_type": "stream",
     "text": [
      "Diagonalized A:\n",
      " [[ 0.00000000e+00+1.01465364e-17j  1.00000000e+00+0.00000000e+00j\n",
      "   1.00000000e+00-5.07326818e-18j]\n",
      " [-1.00000000e+00+0.00000000e+00j  0.00000000e+00+1.01465364e-17j\n",
      "  -2.47782643e-17+5.07326818e-18j]\n",
      " [ 0.00000000e+00+0.00000000e+00j  0.00000000e+00+0.00000000e+00j\n",
      "   1.00000000e+00+0.00000000e+00j]]\n"
     ]
    }
   ],
   "source": [
    "import numpy as np\n",
    "\n",
    "A = np.array([[0, 1, 1],\n",
    "              [-1, 0, 0],\n",
    "              [0, 0, 1]])\n",
    "\n",
    "# Find eigenvalues and eigenvectors\n",
    "eigenvalues, eigenvectors = np.linalg.eig(A)\n",
    "\n",
    "# Diagonal matrix D\n",
    "D = np.diag(eigenvalues)\n",
    "\n",
    "# Diagonalize matrix P\n",
    "P = eigenvectors\n",
    "\n",
    "# Inverse of P\n",
    "P_inv = np.linalg.inv(P)\n",
    "\n",
    "# Diagonalize A: A = P * D * P_inv\n",
    "diagonalized_A = np.dot(np.dot(P, D), P_inv)\n",
    "\n",
    "print(\"Diagonalized A:\\n\", diagonalized_A)\n"
   ]
  },
  {
   "cell_type": "code",
   "execution_count": null,
   "metadata": {},
   "outputs": [],
   "source": []
  }
 ],
 "metadata": {
  "kernelspec": {
   "display_name": "qiskitty",
   "language": "python",
   "name": "python3"
  },
  "language_info": {
   "codemirror_mode": {
    "name": "ipython",
    "version": 3
   },
   "file_extension": ".py",
   "mimetype": "text/x-python",
   "name": "python",
   "nbconvert_exporter": "python",
   "pygments_lexer": "ipython3",
   "version": "3.8.15"
  },
  "orig_nbformat": 4
 },
 "nbformat": 4,
 "nbformat_minor": 2
}
